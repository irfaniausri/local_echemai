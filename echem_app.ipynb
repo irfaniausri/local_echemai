{
 "cells": [
  {
   "cell_type": "code",
   "execution_count": null,
   "id": "96271dae",
   "metadata": {},
   "outputs": [],
   "source": [
    "import streamlit as st\n",
    "import pandas as pd\n",
    "import os, sys\n",
    "\n",
    "# Get base dir of current notebook\n",
    "this_file = __file__ if \"__file__\" in globals() else os.path.abspath(\"\")\n",
    "notebook_dir = os.path.dirname(this_file)\n",
    "\n",
    "project_root = os.path.abspath(os.path.join(notebook_dir, \"..\"))\n",
    "# print(f\"project_root: {project_root}\")\n",
    "if project_root not in sys.path:\n",
    "    sys.path.insert(0, project_root)\n",
    "\n",
    "from Codes.local_echemai import GCD_functions as functions"
   ]
  },
  {
   "cell_type": "code",
   "execution_count": null,
   "id": "601fbb0b",
   "metadata": {},
   "outputs": [],
   "source": [
    "st.title(\"🧪 GCD Processor\")\n",
    "\n",
    "file = st.file_uploader(\"Upload CSV\", type=\"csv\")\n",
    "\n",
    "if file:\n",
    "    df = pd.read_csv(file, header=0, skiprows=[1])\n",
    "    st.write(\"📥 Input Data\", df)\n",
    "\n",
    "    # Run your processing function\n",
    "    cap_df = functions.analyze_gcd_df(df, current=20, has_metadata_row=True)\n",
    "    \n",
    "    fig1 = functions.plot_capacitance_vs_cycle(cap_df, y_min=400, y_max=2000)\n",
    "    st.pyplot(fig1, clear_figure=True)\n",
    "\n",
    "    fig2 = functions.plot_retention_vs_cycle(cap_df)\n",
    "    st.pyplot(fig2, clear_figure=True)\n",
    "    \n",
    "    # Allow download\n",
    "    csv = cap_df.to_csv(index=False).encode(\"utf-8\")\n",
    "    st.download_button(\"Download Result\", csv, \"processed.csv\", \"text/csv\")"
   ]
  }
 ],
 "metadata": {
  "jupytext": {
   "formats": "ipynb,py:light"
  },
  "kernelspec": {
   "display_name": "Python 3 (ipykernel)",
   "language": "python",
   "name": "python3"
  },
  "language_info": {
   "codemirror_mode": {
    "name": "ipython",
    "version": 3
   },
   "file_extension": ".py",
   "mimetype": "text/x-python",
   "name": "python",
   "nbconvert_exporter": "python",
   "pygments_lexer": "ipython3",
   "version": "3.8.20"
  }
 },
 "nbformat": 4,
 "nbformat_minor": 5
}
