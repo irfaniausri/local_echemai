{
 "cells": [
  {
   "cell_type": "code",
   "execution_count": 1,
   "id": "96271dae",
   "metadata": {},
   "outputs": [
    {
     "name": "stdout",
     "output_type": "stream",
     "text": [
      "C:\\Users\\irfan\\Anaconda3\\envs\\dp-app\\python.exe\n"
     ]
    }
   ],
   "source": [
    "import streamlit as st\n",
    "import pandas as pd\n",
    "import os, sys, io, zipfile\n",
    "from datetime import datetime\n",
    "\n",
    "# Get base dir of current notebook\n",
    "this_file = __file__ if \"__file__\" in globals() else os.path.abspath(\"\")\n",
    "notebook_dir = os.path.dirname(this_file)\n",
    "\n",
    "project_root = os.path.abspath(os.path.join(notebook_dir, \"..\"))\n",
    "# print(f\"project_root: {project_root}\")\n",
    "if project_root not in sys.path:\n",
    "    sys.path.insert(0, project_root)\n",
    "\n",
    "from local_echemai import GCD_functions as functions"
   ]
  },
  {
   "cell_type": "code",
   "execution_count": null,
   "id": "bd13b220-1bea-47ea-8c67-3bcae845f745",
   "metadata": {},
   "outputs": [],
   "source": [
    "# --- Shared log storage ---\n",
    "@st.cache_data(ttl=None)\n",
    "def get_logs():\n",
    "    \"\"\"Return the shared usage logs (list of lists).\"\"\"\n",
    "    return []\n",
    "\n",
    "def log_usage(user, file_name, status):\n",
    "    \"\"\"Append a new log entry to the shared logs.\"\"\"\n",
    "    logs = get_logs()\n",
    "    logs.append([datetime.now().isoformat(), user, file_name, status])\n",
    "    update_logs(logs)\n",
    "\n",
    "def update_logs(new_logs):\n",
    "    \"\"\"Overwrite the shared logs in cache with a new list.\"\"\"\n",
    "    get_logs.clear()         # clear only this cached function\n",
    "    get_logs.set(new_logs)   # save updated logs"
   ]
  },
  {
   "cell_type": "code",
   "execution_count": null,
   "id": "601fbb0b",
   "metadata": {},
   "outputs": [],
   "source": [
    "st.title(\"🧪 GCD Processor\")\n",
    "\n",
    "# --- Step 1: User input ---\n",
    "user_name = st.text_input(\"Enter your name (required):\")\n",
    "\n",
    "# --- Step 2: File upload ---\n",
    "uploaded_files = st.file_uploader(\"Upload GCD files\", type=[\"csv\", \"txt\"], accept_multiple_files=True)\n",
    "\n",
    "if  user_name and uploaded_files:\n",
    "    for uploaded_file in uploaded_files:\n",
    "        base_name = uploaded_file.name.split(\".\")[0]\n",
    "        try:\n",
    "            results = functions.analyze_gcd(uploaded_file, current=0.01,  output_path=None, base_name=base_name, \n",
    "                                            mode=\"app\", plot_base_data=True, plot_debug=False)\n",
    "\n",
    "            # ✅ Log success\n",
    "            log_usage(user_name, uploaded_file.name, \"success\")\n",
    "\n",
    "            # --- Package results into ZIP ---\n",
    "            zip_buffer = io.BytesIO()\n",
    "            with zipfile.ZipFile(zip_buffer, \"w\") as zf:\n",
    "                # Add capacitance CSV\n",
    "                cap_df = results.get(\"capacitance\", None)\n",
    "                if cap_df is not None and not cap_df.empty:\n",
    "                    csv_buffer = io.StringIO()\n",
    "                    cap_df.to_csv(csv_buffer, index=False, encoding=\"utf-8-sig\")\n",
    "                    zf.writestr(f\"{base_name}_capacitance.csv\", csv_buffer.getvalue())\n",
    "    \n",
    "                # Add warnings TXT\n",
    "                warnings = results.get(\"warnings\", [])\n",
    "                if warnings:\n",
    "                    zf.writestr(f\"{base_name}_warnings.txt\", \"\\n\".join(warnings))\n",
    "    \n",
    "                # Add figures JPG\n",
    "                figs = results.get(\"figs\", {})\n",
    "                for key, fig in figs.items():\n",
    "                    img_buffer = io.BytesIO()\n",
    "                    fig.savefig(img_buffer, format=\"jpg\", dpi=300)\n",
    "                    img_buffer.seek(0)\n",
    "                    zf.writestr(f\"{base_name}_{key}.jpg\", img_buffer.read())\n",
    "    \n",
    "            zip_buffer.seek(0)\n",
    "            st.download_button(\n",
    "                label=f\"Download All Results ({base_name})\",\n",
    "                data=zip_buffer,\n",
    "                file_name=f\"{base_name}_results.zip\",\n",
    "                mime=\"application/zip\"\n",
    "            )\n",
    "            \n",
    "        except Exception as e:\n",
    "            st.error(f\"❌ Failed {uploaded_file.name}: {e}\")\n",
    "            log_usage(user_name, uploaded_file.name, f\"failed: {e}\")\n",
    "\n",
    "# --- Step 3: Hidden Admin Section ---\n",
    "query_params = st.experimental_get_query_params()\n",
    "if query_params.get(\"admin\") == [\"1\"]:  # Only visible with ?admin=1 in URL\n",
    "    st.subheader(\"Admin Section\")\n",
    "    if st.checkbox(\"📥 Show usage logs\"):\n",
    "        logs = get_logs()\n",
    "        if logs:\n",
    "            df = pd.DataFrame(logs, columns=[\"timestamp\", \"user\", \"file\", \"status\"])\n",
    "            st.dataframe(df)\n",
    "            st.download_button(\n",
    "                \"Download logs.csv\",\n",
    "                df.to_csv(index=False),\n",
    "                \"usage_log.csv\",\n",
    "                mime=\"text/csv\"\n",
    "            )\n",
    "        else:\n",
    "            st.write(\"No logs yet.\")"
   ]
  }
 ],
 "metadata": {
  "jupytext": {
   "formats": "ipynb,py:light"
  },
  "kernelspec": {
   "display_name": "dp-app",
   "language": "python",
   "name": "dp-app"
  },
  "language_info": {
   "codemirror_mode": {
    "name": "ipython",
    "version": 3
   },
   "file_extension": ".py",
   "mimetype": "text/x-python",
   "name": "python",
   "nbconvert_exporter": "python",
   "pygments_lexer": "ipython3",
   "version": "3.10.18"
  }
 },
 "nbformat": 4,
 "nbformat_minor": 5
}
