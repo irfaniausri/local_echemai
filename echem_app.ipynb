{
 "cells": [
  {
   "cell_type": "code",
   "execution_count": 1,
   "id": "96271dae",
   "metadata": {},
   "outputs": [
    {
     "name": "stderr",
     "output_type": "stream",
     "text": [
      "C:\\Users\\irfan\\Anaconda3\\lib\\site-packages\\scipy\\__init__.py:138: UserWarning: A NumPy version >=1.16.5 and <1.23.0 is required for this version of SciPy (detected version 1.24.4)\n",
      "  warnings.warn(f\"A NumPy version >={np_minversion} and <{np_maxversion} is required for this version of \"\n"
     ]
    }
   ],
   "source": [
    "import streamlit as st\n",
    "import pandas as pd\n",
    "import os, sys\n",
    "\n",
    "# Get base dir of current notebook\n",
    "this_file = __file__ if \"__file__\" in globals() else os.path.abspath(\"\")\n",
    "notebook_dir = os.path.dirname(this_file)\n",
    "\n",
    "project_root = os.path.abspath(os.path.join(notebook_dir, \"..\"))\n",
    "# print(f\"project_root: {project_root}\")\n",
    "if project_root not in sys.path:\n",
    "    sys.path.insert(0, project_root)\n",
    "\n",
    "from Codes.local_echemai import GCD_functions as functions"
   ]
  },
  {
   "cell_type": "code",
   "execution_count": 2,
   "id": "601fbb0b",
   "metadata": {},
   "outputs": [
    {
     "name": "stderr",
     "output_type": "stream",
     "text": [
      "2025-09-08 13:52:12.648 WARNING streamlit.runtime.scriptrunner_utils.script_run_context: Thread 'MainThread': missing ScriptRunContext! This warning can be ignored when running in bare mode.\n",
      "2025-09-08 13:52:13.295 \n",
      "  \u001b[33m\u001b[1mWarning:\u001b[0m to view this Streamlit app on a browser, run it with the following\n",
      "  command:\n",
      "\n",
      "    streamlit run C:\\Users\\irfan\\Anaconda3\\lib\\site-packages\\ipykernel_launcher.py [ARGUMENTS]\n",
      "2025-09-08 13:52:13.296 Thread 'MainThread': missing ScriptRunContext! This warning can be ignored when running in bare mode.\n",
      "2025-09-08 13:52:13.297 Thread 'MainThread': missing ScriptRunContext! This warning can be ignored when running in bare mode.\n",
      "2025-09-08 13:52:13.297 Thread 'MainThread': missing ScriptRunContext! This warning can be ignored when running in bare mode.\n",
      "2025-09-08 13:52:13.298 Thread 'MainThread': missing ScriptRunContext! This warning can be ignored when running in bare mode.\n",
      "2025-09-08 13:52:13.299 Thread 'MainThread': missing ScriptRunContext! This warning can be ignored when running in bare mode.\n",
      "2025-09-08 13:52:13.300 Thread 'MainThread': missing ScriptRunContext! This warning can be ignored when running in bare mode.\n"
     ]
    }
   ],
   "source": [
    "st.title(\"🧪 GCD Processor\")\n",
    "\n",
    "file = st.file_uploader(\"Upload CSV\", type=\"csv\")\n",
    "\n",
    "if file:\n",
    "    df = pd.read_csv(file, header=0, skiprows=[1])\n",
    "    st.write(\"📥 Input Data\", df)\n",
    "\n",
    "    # Run your processing function\n",
    "    cap_df = functions.analyze_gcd_df(df, current=20, has_metadata_row=True)\n",
    "    \n",
    "    fig1 = functions.plot_capacitance_vs_cycle(cap_df, y_min=400, y_max=2000)\n",
    "    st.pyplot(fig1, clear_figure=True)\n",
    "\n",
    "    fig2 = functions.plot_retention_vs_cycle(cap_df)\n",
    "    st.pyplot(fig2, clear_figure=True)\n",
    "    \n",
    "    # Allow download\n",
    "    csv = cap_df.to_csv(index=False).encode(\"utf-8\")\n",
    "    st.download_button(\"Download Result\", csv, \"processed.csv\", \"text/csv\")"
   ]
  }
 ],
 "metadata": {
  "jupytext": {
   "formats": "ipynb,py:light"
  },
  "kernelspec": {
   "display_name": "Python 3",
   "language": "python",
   "name": "python3"
  },
  "language_info": {
   "codemirror_mode": {
    "name": "ipython",
    "version": 3
   },
   "file_extension": ".py",
   "mimetype": "text/x-python",
   "name": "python",
   "nbconvert_exporter": "python",
   "pygments_lexer": "ipython3",
   "version": "3.8.8"
  }
 },
 "nbformat": 4,
 "nbformat_minor": 5
}
