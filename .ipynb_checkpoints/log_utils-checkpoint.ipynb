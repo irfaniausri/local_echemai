{
 "cells": [
  {
   "cell_type": "code",
   "execution_count": 1,
   "id": "7156fc70-ed4c-4dbd-a681-83aab34f7b00",
   "metadata": {},
   "outputs": [],
   "source": [
    "import csv\n",
    "from datetime import datetime\n",
    "import os"
   ]
  },
  {
   "cell_type": "code",
   "execution_count": 2,
   "id": "8ca1aa7e-0441-4bff-9392-9de88a527517",
   "metadata": {},
   "outputs": [],
   "source": [
    "LOG_FILE = \"GCDapp_usage_log.csv\"\n",
    "\n",
    "def log_usage(user_name: str, filename: str, status: str):\n",
    "    \"\"\"\n",
    "    Append a log entry to usage_log.csv\n",
    "    \n",
    "    Args:\n",
    "        user_name (str): Name entered by the user\n",
    "        filename (str): Name of file processed\n",
    "        status (str): \"success\" or error message\n",
    "    \"\"\"\n",
    "    os.makedirs(os.path.dirname(LOG_FILE), exist_ok=True) if os.path.dirname(LOG_FILE) else None\n",
    "\n",
    "    with open(LOG_FILE, \"a\", newline=\"\", encoding=\"utf-8\") as f:\n",
    "        writer = csv.writer(f)\n",
    "        writer.writerow([\n",
    "            datetime.utcnow().isoformat(),\n",
    "            user_name,\n",
    "            filename,\n",
    "            status\n",
    "        ])"
   ]
  }
 ],
 "metadata": {
  "jupytext": {
   "formats": "ipynb,py:light"
  },
  "kernelspec": {
   "display_name": "dp-app",
   "language": "python",
   "name": "dp-app"
  },
  "language_info": {
   "codemirror_mode": {
    "name": "ipython",
    "version": 3
   },
   "file_extension": ".py",
   "mimetype": "text/x-python",
   "name": "python",
   "nbconvert_exporter": "python",
   "pygments_lexer": "ipython3",
   "version": "3.10.18"
  }
 },
 "nbformat": 4,
 "nbformat_minor": 5
}
