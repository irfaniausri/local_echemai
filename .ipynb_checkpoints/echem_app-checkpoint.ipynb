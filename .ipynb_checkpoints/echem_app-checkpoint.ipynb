{
 "cells": [
  {
   "cell_type": "code",
   "execution_count": null,
   "id": "96271dae",
   "metadata": {},
   "outputs": [],
   "source": [
    "import streamlit as st\n",
    "import pandas as pd\n",
    "import os, sys, io, zipfile\n",
    "\n",
    "# Get base dir of current notebook\n",
    "this_file = __file__ if \"__file__\" in globals() else os.path.abspath(\"\")\n",
    "notebook_dir = os.path.dirname(this_file)\n",
    "\n",
    "project_root = os.path.abspath(os.path.join(notebook_dir, \"..\"))\n",
    "# print(f\"project_root: {project_root}\")\n",
    "if project_root not in sys.path:\n",
    "    sys.path.insert(0, project_root)\n",
    "\n",
    "from Codes.local_echemai import GCD_functions as functions\n",
    "from Codes.local_echemai import log_utils as log"
   ]
  },
  {
   "cell_type": "code",
   "execution_count": null,
   "id": "601fbb0b",
   "metadata": {},
   "outputs": [],
   "source": [
    "st.title(\"🧪 GCD Processor\")\n",
    "\n",
    "# file = st.file_uploader(\"Upload CSV\", type=\"csv\")\n",
    "uploaded_files = st.file_uploader(\"Upload GCD files\", type=[\"csv\", \"txt\"], accept_multiple_files=True)\n",
    "\n",
    "if uploaded_files:\n",
    "    for uploaded_file in uploaded_files:\n",
    "        base_name = uploaded_file.name.split(\".\")[0]\n",
    "\n",
    "        results = functions.analyze_gcd(uploaded_file, current=0.01,  output_path=None, base_name=base_name, \n",
    "                              mode=\"app\", plot_base_data=True, plot_debug=False)\n",
    "\n",
    "        zip_buffer = io.BytesIO()\n",
    "        with zipfile.ZipFile(zip_buffer, \"w\") as zf:\n",
    "            # Add capacitance CSV\n",
    "            cap_df = results.get(\"capacitance\", None)\n",
    "            if cap_df is not None and not cap_df.empty:\n",
    "                csv_buffer = io.StringIO()\n",
    "                cap_df.to_csv(csv_buffer, index=False, encoding=\"utf-8-sig\")\n",
    "                zf.writestr(f\"{base_name}_capacitance.csv\", csv_buffer.getvalue())\n",
    "\n",
    "            # Add warnings TXT\n",
    "            warnings = results.get(\"warnings\", [])\n",
    "            if warnings:\n",
    "                zf.writestr(f\"{base_name}_warnings.txt\", \"\\n\".join(warnings))\n",
    "\n",
    "            # Add figures JPG\n",
    "            figs = results.get(\"figs\", {})\n",
    "            for key, fig in figs.items():\n",
    "                img_buffer = io.BytesIO()\n",
    "                fig.savefig(img_buffer, format=\"jpg\", dpi=300)\n",
    "                img_buffer.seek(0)\n",
    "                zf.writestr(f\"{base_name}_{key}.jpg\", img_buffer.read())\n",
    "\n",
    "        zip_buffer.seek(0)\n",
    "        st.download_button(\n",
    "            label=f\"Download All Results ({base_name})\",\n",
    "            data=zip_buffer,\n",
    "            file_name=f\"{base_name}_results.zip\",\n",
    "            mime=\"application/zip\"\n",
    "        )"
   ]
  }
 ],
 "metadata": {
  "jupytext": {
   "formats": "ipynb,py:light"
  },
  "kernelspec": {
   "display_name": "dp-app",
   "language": "python",
   "name": "dp-app"
  },
  "language_info": {
   "codemirror_mode": {
    "name": "ipython",
    "version": 3
   },
   "file_extension": ".py",
   "mimetype": "text/x-python",
   "name": "python",
   "nbconvert_exporter": "python",
   "pygments_lexer": "ipython3",
   "version": "3.10.18"
  }
 },
 "nbformat": 4,
 "nbformat_minor": 5
}
