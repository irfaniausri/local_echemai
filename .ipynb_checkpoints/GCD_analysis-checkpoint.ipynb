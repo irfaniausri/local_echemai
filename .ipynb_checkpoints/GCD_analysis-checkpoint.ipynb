{
 "cells": [
  {
   "cell_type": "code",
   "execution_count": 1,
   "id": "0d4fc6d3",
   "metadata": {},
   "outputs": [
    {
     "name": "stdout",
     "output_type": "stream",
     "text": [
      "C:\\Users\\irfan\\Anaconda3\\envs\\dp-app\\python.exe\n",
      "C:\\Users\\irfan\\Anaconda3\\envs\\dp-app\\python.exe\n"
     ]
    }
   ],
   "source": [
    "import os, sys\n",
    "# print(sys.executable)\n",
    "import matplotlib\n",
    "matplotlib.use(\"module://ipympl.backend_nbagg\")\n",
    "import matplotlib.pyplot as plt\n",
    "\n",
    "# %matplotlib widget\n",
    "# import matplotlib\n",
    "# print(\"Matplotlib backend:\", matplotlib.get_backend())\n",
    "\n",
    "# Get base dir of current notebook\n",
    "this_file = __file__ if \"__file__\" in globals() else os.path.abspath(\"\")\n",
    "notebook_dir = os.path.dirname(this_file)\n",
    "\n",
    "project_root = os.path.abspath(os.path.join(notebook_dir, \"..\"))\n",
    "# print(f\"project_root: {project_root}\")\n",
    "if project_root not in sys.path:\n",
    "    sys.path.insert(0, project_root)\n",
    "\n",
    "from Codes.local_echemai import GCD_functions as functions"
   ]
  },
  {
   "cell_type": "code",
   "execution_count": null,
   "id": "44474970",
   "metadata": {},
   "outputs": [],
   "source": [
    "### Global Variables ###\n",
    "user = \"Wulan\"\n",
    "current = 10\n",
    "\n",
    "root_folder = r\"C:\\Users\\irfan\\OneDrive\\Documents\\IDN Biotech\\E-chemAI\"\n",
    "sub_folders = [\"gold_standard\", \"raw_files\", \"test_files\"]"
   ]
  },
  {
   "cell_type": "code",
   "execution_count": null,
   "id": "3ff1cfa5",
   "metadata": {
    "scrolled": true
   },
   "outputs": [],
   "source": [
    "file_name = \"gold_standard_data.csv\"\n",
    "\n",
    "for sub_folder in sub_folders:\n",
    "    input_file = os.path.join(root_folder, \"Samples\", user, sub_folder, file_name)\n",
    "    output_path = os.path.join(root_folder, \"Samples\", user, sub_folder)\n",
    "    if os.path.exists(input_file):\n",
    "        functions.analyze_gcd(input_file, output_path, current, y_min=0, y_max=1000, plot_raw=True, plot_good=False, debug_plot=True)"
   ]
  }
 ],
 "metadata": {
  "kernelspec": {
   "display_name": "dp-app",
   "language": "python",
   "name": "dp-app"
  },
  "language_info": {
   "codemirror_mode": {
    "name": "ipython",
    "version": 3
   },
   "file_extension": ".py",
   "mimetype": "text/x-python",
   "name": "python",
   "nbconvert_exporter": "python",
   "pygments_lexer": "ipython3",
   "version": "3.10.18"
  }
 },
 "nbformat": 4,
 "nbformat_minor": 5
}
