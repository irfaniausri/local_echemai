{
 "cells": [
  {
   "cell_type": "code",
   "execution_count": 1,
   "id": "7156fc70-ed4c-4dbd-a681-83aab34f7b00",
   "metadata": {},
   "outputs": [],
   "source": [
    "import pandas as pd\n",
    "from datetime import datetime\n",
    "import streamlit as st"
   ]
  },
  {
   "cell_type": "code",
   "execution_count": 2,
   "id": "8ca1aa7e-0441-4bff-9392-9de88a527517",
   "metadata": {},
   "outputs": [],
   "source": [
    "LOG_FILE = \"GCDapp_usage_log.csv\"\n",
    "\n",
    "# --- Cached logs store ---\n",
    "@st.cache_data(ttl=None)\n",
    "def get_logs():\n",
    "    # start with empty list\n",
    "    return []\n",
    "\n",
    "def log_usage(user: str, file_name: str, status: str):\n",
    "    logs = get_logs()\n",
    "    logs.append([datetime.now().isoformat(), user, file_name, status])\n",
    "    # Update cache\n",
    "    st.cache_data.clear()  # clear to allow refresh\n",
    "    @st.cache_data(ttl=None)\n",
    "    def get_logs():\n",
    "        return logs\n",
    "    return logs"
   ]
  }
 ],
 "metadata": {
  "jupytext": {
   "formats": "ipynb,py:light"
  },
  "kernelspec": {
   "display_name": "dp-app",
   "language": "python",
   "name": "dp-app"
  },
  "language_info": {
   "codemirror_mode": {
    "name": "ipython",
    "version": 3
   },
   "file_extension": ".py",
   "mimetype": "text/x-python",
   "name": "python",
   "nbconvert_exporter": "python",
   "pygments_lexer": "ipython3",
   "version": "3.10.18"
  }
 },
 "nbformat": 4,
 "nbformat_minor": 5
}
