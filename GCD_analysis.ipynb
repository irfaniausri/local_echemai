{
 "cells": [
  {
   "cell_type": "code",
   "execution_count": 1,
   "id": "0d4fc6d3",
   "metadata": {},
   "outputs": [
    {
     "name": "stderr",
     "output_type": "stream",
     "text": [
      "C:\\Users\\irfan\\Anaconda3\\lib\\site-packages\\scipy\\__init__.py:138: UserWarning: A NumPy version >=1.16.5 and <1.23.0 is required for this version of SciPy (detected version 1.24.4)\n",
      "  warnings.warn(f\"A NumPy version >={np_minversion} and <{np_maxversion} is required for this version of \"\n"
     ]
    }
   ],
   "source": [
    "import os, sys\n",
    "\n",
    "# Get base dir of current notebook\n",
    "this_file = __file__ if \"__file__\" in globals() else os.path.abspath(\"\")\n",
    "notebook_dir = os.path.dirname(this_file)\n",
    "\n",
    "project_root = os.path.abspath(os.path.join(notebook_dir, \"..\"))\n",
    "# print(f\"project_root: {project_root}\")\n",
    "if project_root not in sys.path:\n",
    "    sys.path.insert(0, project_root)\n",
    "\n",
    "from Codes.local_echemai import GCD_functions as functions"
   ]
  },
  {
   "cell_type": "code",
   "execution_count": 2,
   "id": "44474970",
   "metadata": {},
   "outputs": [],
   "source": [
    "### Global Variables ###\n",
    "user = \"Wulan\"\n",
    "current = 10\n",
    "\n",
    "root_folder = r\"C:\\Users\\irfan\\OneDrive\\Documents\\IDN Biotech\\E-chemAI\"\n",
    "sub_folder = \"raw_files\""
   ]
  },
  {
   "cell_type": "code",
   "execution_count": 3,
   "id": "3ff1cfa5",
   "metadata": {
    "scrolled": false
   },
   "outputs": [
    {
     "ename": "ValueError",
     "evalue": "too many values to unpack (expected 2)",
     "output_type": "error",
     "traceback": [
      "\u001b[1;31m---------------------------------------------------------------------------\u001b[0m",
      "\u001b[1;31mValueError\u001b[0m                                Traceback (most recent call last)",
      "\u001b[1;32m<ipython-input-3-26a0fbc22a65>\u001b[0m in \u001b[0;36m<module>\u001b[1;34m\u001b[0m\n\u001b[0;32m      3\u001b[0m \u001b[0moutput_path\u001b[0m \u001b[1;33m=\u001b[0m \u001b[0mos\u001b[0m\u001b[1;33m.\u001b[0m\u001b[0mpath\u001b[0m\u001b[1;33m.\u001b[0m\u001b[0mjoin\u001b[0m\u001b[1;33m(\u001b[0m\u001b[0mroot_folder\u001b[0m\u001b[1;33m,\u001b[0m \u001b[0muser\u001b[0m\u001b[1;33m)\u001b[0m\u001b[1;33m\u001b[0m\u001b[1;33m\u001b[0m\u001b[0m\n\u001b[0;32m      4\u001b[0m \u001b[1;33m\u001b[0m\u001b[0m\n\u001b[1;32m----> 5\u001b[1;33m \u001b[0mfunctions\u001b[0m\u001b[1;33m.\u001b[0m\u001b[0manalyze_gcd\u001b[0m\u001b[1;33m(\u001b[0m\u001b[0minput_file\u001b[0m\u001b[1;33m,\u001b[0m \u001b[0moutput_path\u001b[0m\u001b[1;33m,\u001b[0m \u001b[0mcurrent\u001b[0m\u001b[1;33m,\u001b[0m \u001b[0my_min\u001b[0m\u001b[1;33m=\u001b[0m\u001b[1;36m50\u001b[0m\u001b[1;33m,\u001b[0m \u001b[0my_max\u001b[0m\u001b[1;33m=\u001b[0m\u001b[1;36m500\u001b[0m\u001b[1;33m)\u001b[0m\u001b[1;33m\u001b[0m\u001b[1;33m\u001b[0m\u001b[0m\n\u001b[0m",
      "\u001b[1;32m~\\OneDrive\\Documents\\IDN Biotech\\E-chemAI\\Codes\\local_echemai\\GCD_functions.py\u001b[0m in \u001b[0;36manalyze_gcd\u001b[1;34m(filepath, output_path, current, y_min, y_max, smooth_window, poly_order, debug_plot)\u001b[0m\n\u001b[0;32m    405\u001b[0m \u001b[1;31m#     )\u001b[0m\u001b[1;33m\u001b[0m\u001b[1;33m\u001b[0m\u001b[1;33m\u001b[0m\u001b[0m\n\u001b[0;32m    406\u001b[0m \u001b[1;31m#     plot_detected_boundaries(time, smoothed_voltage, cycle_boundaries)\u001b[0m\u001b[1;33m\u001b[0m\u001b[1;33m\u001b[0m\u001b[1;33m\u001b[0m\u001b[0m\n\u001b[1;32m--> 407\u001b[1;33m     \u001b[0mpeaks\u001b[0m\u001b[1;33m,\u001b[0m \u001b[0mvalleys\u001b[0m \u001b[1;33m=\u001b[0m \u001b[0mdetect_cycle_peaks_and_valleys\u001b[0m\u001b[1;33m(\u001b[0m\u001b[0msmoothed_voltage\u001b[0m\u001b[1;33m,\u001b[0m \u001b[0mtime\u001b[0m\u001b[1;33m)\u001b[0m\u001b[1;33m\u001b[0m\u001b[1;33m\u001b[0m\u001b[0m\n\u001b[0m\u001b[0;32m    408\u001b[0m     \u001b[0mpeak_valley_pairs\u001b[0m \u001b[1;33m=\u001b[0m \u001b[0mmatch_peak_valley_pairs\u001b[0m\u001b[1;33m(\u001b[0m\u001b[0mpeaks\u001b[0m\u001b[1;33m,\u001b[0m \u001b[0mvalleys\u001b[0m\u001b[1;33m)\u001b[0m\u001b[1;33m\u001b[0m\u001b[1;33m\u001b[0m\u001b[0m\n\u001b[0;32m    409\u001b[0m \u001b[1;33m\u001b[0m\u001b[0m\n",
      "\u001b[1;31mValueError\u001b[0m: too many values to unpack (expected 2)"
     ]
    }
   ],
   "source": [
    "file_name = \"gold_standard_data.csv\"\n",
    "input_file = os.path.join(root_folder, user, file_name)\n",
    "output_path = os.path.join(root_folder, user)\n",
    "\n",
    "functions.analyze_gcd(input_file, output_path, current, y_min=50, y_max=500)"
   ]
  }
 ],
 "metadata": {
  "kernelspec": {
   "display_name": "Python 3",
   "language": "python",
   "name": "python3"
  },
  "language_info": {
   "codemirror_mode": {
    "name": "ipython",
    "version": 3
   },
   "file_extension": ".py",
   "mimetype": "text/x-python",
   "name": "python",
   "nbconvert_exporter": "python",
   "pygments_lexer": "ipython3",
   "version": "3.8.8"
  }
 },
 "nbformat": 4,
 "nbformat_minor": 5
}
